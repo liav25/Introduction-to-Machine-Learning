{
 "cells": [
  {
   "cell_type": "code",
   "execution_count": 1,
   "metadata": {},
   "outputs": [],
   "source": [
    "import numpy as np"
   ]
  },
  {
   "cell_type": "code",
   "execution_count": null,
   "metadata": {},
   "outputs": [],
   "source": [
    "    class Perceptron:  \n",
    "\n",
    "        # A simple class \n",
    "        # attribute \n",
    "        attr1 = \"mamal\"\n",
    "        attr2 = \"dog\"\n",
    "\n",
    "        # A sample method   \n",
    "        def fun(self):  \n",
    "            print(\"I'm a\", self.attr1) \n",
    "            print(\"I'm a\", self.attr2) \n",
    "\n",
    "        def fit(x,y):\n",
    "            \"\"\"\n",
    "\n",
    "            \"\"\"\n",
    "            m = len(y)\n",
    "\n"
   ]
  }
 ],
 "metadata": {
  "kernelspec": {
   "display_name": "Python 3",
   "language": "python",
   "name": "python3"
  },
  "language_info": {
   "codemirror_mode": {
    "name": "ipython",
    "version": 3
   },
   "file_extension": ".py",
   "mimetype": "text/x-python",
   "name": "python",
   "nbconvert_exporter": "python",
   "pygments_lexer": "ipython3",
   "version": "3.6.9"
  }
 },
 "nbformat": 4,
 "nbformat_minor": 2
}
